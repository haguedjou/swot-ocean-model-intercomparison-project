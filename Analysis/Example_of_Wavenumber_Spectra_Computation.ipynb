{
 "cells": [
  {
   "cell_type": "markdown",
   "id": "971a18fc-e484-46c2-a18d-f26a6ae9fccc",
   "metadata": {},
   "source": [
    "<div style=\"background-color: steelblue; padding: 10px; border-radius: 5px;\">\n",
    "    <p style=\"margin: 10;\"></p>\n",
    "    <h1 style=\"text-align: center; margin: 0; font-weight: bold; color: white;\">SWOT Ocean Model Intercomparison Project : EORCA12-ERA5v1 Test Case</h1>\n",
    "    <p style=\"margin: 10;\"></p>\n",
    "</div>\n",
    "\n"
   ]
  },
  {
   "cell_type": "markdown",
   "id": "9d3e53be-ab8a-41c9-b3f4-a3f17aacfc7d",
   "metadata": {},
   "source": [
    "## 📦**Imports** "
   ]
  },
  {
   "cell_type": "code",
   "execution_count": 1,
   "id": "63a8c831-6e17-4d0e-a7af-9e6bd2b84be6",
   "metadata": {},
   "outputs": [
    {
     "name": "stdout",
     "output_type": "stream",
     "text": [
      "CPU times: user 3.45 s, sys: 515 ms, total: 3.96 s\n",
      "Wall time: 5.36 s\n"
     ]
    }
   ],
   "source": [
    "%%time\n",
    "\n",
    "##################################\n",
    "#Imports\n",
    "\n",
    "from datetime import datetime\n",
    "import s3fs\n",
    "import xarray as xr\n",
    "import pyinterp\n",
    "from widetrax import DataPreprocessing as dp\n",
    "from widetrax import Spectra as sp\n",
    "import numpy as np\n",
    "import json\n",
    "from watermark import watermark\n",
    "import time\n",
    "import platform"
   ]
  },
  {
   "cell_type": "markdown",
   "id": "bc7085b2-0401-4991-8bb7-955739727e86",
   "metadata": {},
   "source": [
    "## 🔍 **Check the S3 Endpoint**  "
   ]
  },
  {
   "cell_type": "code",
   "execution_count": 2,
   "id": "8775da79-d598-40a5-8202-a619a511bdc3",
   "metadata": {},
   "outputs": [
    {
     "name": "stdout",
     "output_type": "stream",
     "text": [
      "Bucket contents:\n",
      "npd-eorca12-era5v1-swot-omip/cycle_008\n",
      "npd-eorca12-era5v1-swot-omip/cycle_009\n",
      "npd-eorca12-era5v1-swot-omip/cycle_010\n",
      "npd-eorca12-era5v1-swot-omip/cycle_011\n",
      "npd-eorca12-era5v1-swot-omip/cycle_012\n",
      "npd-eorca12-era5v1-swot-omip/cycle_013\n",
      "npd-eorca12-era5v1-swot-omip/cycle_014\n",
      "npd-eorca12-era5v1-swot-omip/cycle_015\n",
      "npd-eorca12-era5v1-swot-omip/cycle_016\n",
      "npd-eorca12-era5v1-swot-omip/cycle_017\n",
      "npd-eorca12-era5v1-swot-omip/cycle_018\n",
      "npd-eorca12-era5v1-swot-omip/cycle_019\n",
      "npd-eorca12-era5v1-swot-omip/cycle_020\n",
      "npd-eorca12-era5v1-swot-omip/cycle_021\n",
      "npd-eorca12-era5v1-swot-omip/cycle_022\n",
      "npd-eorca12-era5v1-swot-omip/cycle_023\n",
      "npd-eorca12-era5v1-swot-omip/cycle_024\n",
      "npd-eorca12-era5v1-swot-omip/cycle_025\n",
      "npd-eorca12-era5v1-swot-omip/cycle_026\n"
     ]
    }
   ],
   "source": [
    "s3_folder =\"s3://npd-eorca12-era5v1-swot-omip/\"\n",
    "endpoint_url =  \"https://noc-msm-o.s3-ext.jc.rl.ac.uk\"\n",
    "fs = s3fs.S3FileSystem(anon=True,endpoint_url=endpoint_url)\n",
    "# List contents of the bucket\n",
    "bucket_name = 's3://npd-eorca12-era5v1-swot-omip/'\n",
    "contents = fs.ls(bucket_name)\n",
    "print(\"Bucket contents:\")\n",
    "for item in contents:\n",
    "    print(item)"
   ]
  },
  {
   "cell_type": "markdown",
   "id": "c6461d2a-173a-4527-bdc3-37cc8eee2d40",
   "metadata": {},
   "source": [
    "## 🧮 **Required variables**"
   ]
  },
  {
   "cell_type": "code",
   "execution_count": 3,
   "id": "87fc6c42-51d5-41ac-8380-559428671ef9",
   "metadata": {},
   "outputs": [],
   "source": [
    "# \"region_id\": 5\n",
    "lon_min = 114.87,\n",
    "lon_max = 122.87,\n",
    "lat_min = -40.5,\n",
    "lat_max = -30.5,\n",
    "       \n",
    "area = [lon_min, lat_min, lon_max, lat_max]\n",
    "start_date = \"01012024\" # \"DDMMYYYY\"\n",
    "end_date =\"30032024\""
   ]
  },
  {
   "cell_type": "markdown",
   "id": "85c50142-e9eb-4879-b562-78dc52b1857e",
   "metadata": {},
   "source": [
    "## 🔄 **Identify the cycle numbers within the specified time range** "
   ]
  },
  {
   "cell_type": "code",
   "execution_count": 4,
   "id": "6bfcbd8f-13ca-4371-a1bd-30f29d8d3741",
   "metadata": {},
   "outputs": [
    {
     "data": {
      "text/plain": [
       "['008', '009', '010', '011', '012', '013']"
      ]
     },
     "execution_count": 4,
     "metadata": {},
     "output_type": "execute_result"
    }
   ],
   "source": [
    "file_path = \"https://minio.lab.dive.edito.eu/project-meom-ige/cycles_periods.csv\"\n",
    "matching_cycles = dp.get_matching_cycles(file_path, start_date, end_date)\n",
    "\n",
    "def formater_numeros_concis(liste_numeros):\n",
    "  return [str(numero).zfill(3) for numero in liste_numeros]\n",
    "    \n",
    "matching_cycles = formater_numeros_concis(matching_cycles)\n",
    "matching_cycles"
   ]
  },
  {
   "cell_type": "markdown",
   "id": "a02c66bf-7437-42b6-b29a-907e93036754",
   "metadata": {},
   "source": [
    "## 📊 **Load datasets and compute Wavenumber spectra**"
   ]
  },
  {
   "cell_type": "code",
   "execution_count": 5,
   "id": "371aff62-7090-4981-8e0b-8e5f52fee41a",
   "metadata": {
    "collapsed": true,
    "jupyter": {
     "outputs_hidden": true
    }
   },
   "outputs": [
    {
     "name": "stdout",
     "output_type": "stream",
     "text": [
      "H_008_5 included.\n",
      "H_008_5 included.\n",
      "H_009_0 included.\n",
      "H_009_0 included.\n",
      "H_009_0 included.\n",
      "H_009_0 included.\n",
      "H_009_0 included.\n",
      "H_009_0 included.\n",
      "H_009_0 included.\n",
      "H_009_1 included.\n",
      "H_009_2 included.\n",
      "H_009_2 included.\n",
      "H_009_2 included.\n",
      "H_009_3 included.\n",
      "H_009_3 included.\n",
      "H_009_3 included.\n",
      "H_009_3 included.\n",
      "H_009_3 included.\n",
      "H_009_3 included.\n",
      "H_009_3 included.\n",
      "H_009_5 included.\n",
      "H_009_5 included.\n",
      "H_010_0 included.\n",
      "H_010_0 included.\n",
      "H_010_0 included.\n",
      "H_010_0 included.\n",
      "H_010_0 included.\n",
      "H_010_0 included.\n",
      "H_010_0 included.\n",
      "H_010_1 included.\n",
      "H_010_2 included.\n",
      "H_010_2 included.\n",
      "H_010_2 included.\n",
      "H_010_3 included.\n",
      "H_010_3 included.\n",
      "H_010_3 included.\n",
      "H_010_3 included.\n",
      "H_010_3 included.\n",
      "H_010_3 included.\n",
      "H_010_5 included.\n",
      "H_010_5 included.\n",
      "H_011_0 included.\n",
      "H_011_0 included.\n",
      "H_011_0 included.\n",
      "H_011_0 included.\n",
      "H_011_0 included.\n",
      "H_011_0 included.\n",
      "H_011_0 included.\n",
      "H_011_1 included.\n",
      "H_011_2 included.\n",
      "H_011_2 included.\n",
      "H_011_2 included.\n",
      "H_011_3 included.\n",
      "H_011_3 included.\n",
      "H_011_3 included.\n",
      "H_011_3 included.\n",
      "H_011_3 included.\n",
      "H_011_3 included.\n",
      "H_011_3 included.\n",
      "H_011_5 included.\n",
      "H_011_5 included.\n",
      "H_012_0 included.\n",
      "H_012_0 included.\n",
      "H_012_0 included.\n",
      "H_012_0 included.\n",
      "H_012_0 included.\n",
      "H_012_0 included.\n",
      "H_012_0 included.\n",
      "H_012_1 included.\n",
      "H_012_2 included.\n",
      "H_012_2 included.\n",
      "H_012_2 included.\n",
      "H_012_3 included.\n",
      "H_012_3 included.\n",
      "H_012_3 included.\n",
      "H_012_3 included.\n",
      "H_012_3 included.\n",
      "H_012_3 included.\n",
      "H_012_3 included.\n",
      "H_012_5 included.\n",
      "H_012_5 included.\n",
      "H_013_0 included.\n",
      "H_013_0 included.\n",
      "H_013_0 included.\n",
      "H_013_0 included.\n",
      "H_013_0 included.\n",
      "H_013_0 included.\n",
      "H_013_0 included.\n",
      "H_013_1 included.\n",
      "H_013_2 included.\n",
      "H_013_2 included.\n",
      "H_013_2 included.\n",
      "H_013_3 included.\n",
      "H_013_3 included.\n",
      "H_013_3 included.\n",
      "H_013_3 included.\n",
      "H_013_3 included.\n",
      "H_013_3 included.\n",
      "H_013_3 included.\n",
      "H_013_5 included.\n",
      "H_013_5 included.\n",
      "CPU times: user 4min 38s, sys: 3min 16s, total: 7min 54s\n",
      "Wall time: 19min 37s\n"
     ]
    }
   ],
   "source": [
    "%%time\n",
    "# Load datasets into a dictionary\n",
    "datasets_dict = dp.read_swot_ncfiles_S3subfolders(\n",
    "    s3_folder,\n",
    "    matching_cycles,\n",
    "    endpoint_url,\n",
    "    area)"
   ]
  },
  {
   "cell_type": "code",
   "execution_count": 6,
   "id": "dc1511c0-88e9-4837-94b0-79d07bb91f65",
   "metadata": {},
   "outputs": [
    {
     "name": "stdout",
     "output_type": "stream",
     "text": [
      "CPU times: user 31.1 s, sys: 46 s, total: 1min 17s\n",
      "Wall time: 30.2 s\n"
     ]
    }
   ],
   "source": [
    "%%time\n",
    "has_converged, filled_datasets = dp.fill_nan(datasets_dict, varname = \"ssh\")"
   ]
  },
  {
   "cell_type": "code",
   "execution_count": 7,
   "id": "7f9712ff-7a57-4ebf-9435-a596e46216d1",
   "metadata": {},
   "outputs": [
    {
     "name": "stderr",
     "output_type": "stream",
     "text": [
      "/home/jovyan/conda-envs/amine_env/lib/python3.9/site-packages/widetrax/Spectra.py:43: FutureWarning: The return type of `Dataset.dims` will be changed to return a set of dimension names in future, in order to be more consistent with `DataArray.dims`. To access a mapping from dimension names to lengths, please use `Dataset.sizes`.\n",
      "  for col in range(dataset.dims['num_pixels']):\n"
     ]
    },
    {
     "name": "stdout",
     "output_type": "stream",
     "text": [
      "CPU times: user 712 ms, sys: 0 ns, total: 712 ms\n",
      "Wall time: 712 ms\n"
     ]
    }
   ],
   "source": [
    "%%time\n",
    "segments_dict = sp.retrieve_segments(filled_datasets,FileType = \"NetCDF\",namevar=\"ssh\")"
   ]
  },
  {
   "cell_type": "code",
   "execution_count": 8,
   "id": "59ef318b-9264-40a4-9171-5f2b6475e9b3",
   "metadata": {},
   "outputs": [
    {
     "name": "stdout",
     "output_type": "stream",
     "text": [
      "CPU times: user 825 ms, sys: 425 ms, total: 1.25 s\n",
      "Wall time: 1.21 s\n"
     ]
    }
   ],
   "source": [
    "%%time\n",
    "psd_dict, freqs_dict = sp.calculate_psd(segments_dict)\n",
    "# Calculate PSD Mean\n",
    "psd_mean, freqs_mean = sp.psd_mean_and_freq(psd_dict,freqs_dict)"
   ]
  },
  {
   "cell_type": "markdown",
   "id": "f60c3776-1df4-4bbb-abd7-20dde44c01b3",
   "metadata": {},
   "source": [
    "## 💾 **Save Results and Information in JSON File**"
   ]
  },
  {
   "cell_type": "code",
   "execution_count": 9,
   "id": "1b7c4e9e-0a0c-4903-97e2-345248d4350c",
   "metadata": {},
   "outputs": [
    {
     "name": "stdout",
     "output_type": "stream",
     "text": [
      "JSON file created\n"
     ]
    }
   ],
   "source": [
    "# Infos\n",
    "nom_region = \"Region_5\"\n",
    "model = \"eorca12-era5v1\"\n",
    "freqs_mean = np.array(freqs_mean)\n",
    "psd_mean = np.array(psd_mean)\n",
    "todays_Date = datetime.now()\n",
    "date_creation = todays_Date.isoformat() #ISO 8601 format\n",
    "packages_versions = watermark(packages=\"numpy,widetrax,xarray,s3fs,pyinterp,datetime,json,platform,time\")\n",
    "machine_info = {\n",
    "    \"system\": platform.system(),\n",
    "    \"node_name\": platform.node(),\n",
    "    \"release\": platform.release(),\n",
    "    \"version\": platform.version(),\n",
    "    \"machine\": platform.machine(),\n",
    "    \"processor\": platform.processor(),\n",
    "    \"python_version\": platform.python_version()\n",
    "}\n",
    "\n",
    "# JSON file structure\n",
    "donnees = {\n",
    "    \"region\": nom_region,\n",
    "    \"model\": model,\n",
    "    \"lon_min\": lon_min,\n",
    "    \"lon_max\": lon_max,\n",
    "    \"lat_min\": lat_min,\n",
    "    \"lat_max\": lat_max,\n",
    "    \"start_date\": datetime.strptime(start_date, \"%d%m%Y\").strftime(\"%Y-%m-%d\"),\n",
    "    \"end_date\": datetime.strptime(end_date, \"%d%m%Y\").strftime(\"%Y-%m-%d\"),\n",
    "    \"packages_versions\": packages_versions,\n",
    "    \"date_creation\": date_creation,\n",
    "    \"login_creator\": platform.node(),\n",
    "    \"Frequency\": freqs_mean.tolist(),\n",
    "    \"Spectra\": psd_mean.tolist(),\n",
    "    \"machine_info\": machine_info\n",
    "}\n",
    "\n",
    "# Save on JSON file\n",
    "with open(\"OMIP_\"+str(model)+\"_\"+str(nom_region)+\".json\", \"w\", encoding=\"utf-8\") as f:\n",
    "    json.dump(donnees, f, ensure_ascii=False, indent=4)\n",
    "\n",
    "print(\"JSON file created\")"
   ]
  },
  {
   "cell_type": "markdown",
   "id": "ceb9ff90-2512-4064-a967-277ade24e123",
   "metadata": {},
   "source": [
    "## 📤 **Export Results to the S3 Endpoint** "
   ]
  },
  {
   "cell_type": "code",
   "execution_count": 16,
   "id": "f16ad42b-62d6-4dd0-a4a9-73832c777f1c",
   "metadata": {},
   "outputs": [],
   "source": [
    "fs = s3fs.S3FileSystem( anon=True, endpoint_url=\"https://minio.lab.dive.edito.eu\", use_ssl=False ) "
   ]
  },
  {
   "cell_type": "code",
   "execution_count": 15,
   "id": "28f11812-7154-4c0d-9fe2-43fdb36b2b94",
   "metadata": {},
   "outputs": [
    {
     "data": {
      "text/plain": [
       "[None]"
      ]
     },
     "execution_count": 15,
     "metadata": {},
     "output_type": "execute_result"
    }
   ],
   "source": [
    "json_file = \"OMIP_\"+str(model)+\"_\"+str(nom_region)+\".json\"\n",
    "fs.put(json_file, \"project-meom-ige/OMIP/\")"
   ]
  },
  {
   "cell_type": "code",
   "execution_count": null,
   "id": "3ca414dc-e295-40ba-8e16-162ae2bde72c",
   "metadata": {},
   "outputs": [],
   "source": []
  }
 ],
 "metadata": {
  "kernelspec": {
   "display_name": "Python (amine_env)",
   "language": "python",
   "name": "mon_env"
  },
  "language_info": {
   "codemirror_mode": {
    "name": "ipython",
    "version": 3
   },
   "file_extension": ".py",
   "mimetype": "text/x-python",
   "name": "python",
   "nbconvert_exporter": "python",
   "pygments_lexer": "ipython3",
   "version": "3.9.21"
  }
 },
 "nbformat": 4,
 "nbformat_minor": 5
}
